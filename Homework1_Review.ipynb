{
 "cells": [
  {
   "cell_type": "markdown",
   "metadata": {},
   "source": [
    "# Homework1 Review Problems\n",
    "\n",
    "### Problem1 (関数について・1)\n",
    "\n",
    "\"Hello world.\"という文字列を出力する(プリントする)関数 **printHelloWorld()** を定義してください."
   ]
  },
  {
   "cell_type": "code",
   "execution_count": 1,
   "metadata": {},
   "outputs": [],
   "source": [
    "# ここに答えを書く"
   ]
  },
  {
   "cell_type": "markdown",
   "metadata": {},
   "source": [
    "### Problem2 (関数について・2)\n",
    "\n",
    "\"Hello 〇〇\"という文字列(〇〇は名前)を出力する関数 **greeting()** を定義してください."
   ]
  },
  {
   "cell_type": "code",
   "execution_count": 2,
   "metadata": {},
   "outputs": [],
   "source": [
    "# ここに答えを書く"
   ]
  },
  {
   "cell_type": "markdown",
   "metadata": {},
   "source": [
    "### Problem3 (関数について・3)\n",
    "\n",
    "3つの値を取り, その平均を計算する関数 **calcAverage()** を定義してください.  \n",
    "ただし, リストやループなどを使用してはいけません.  \n",
    "\n",
    "e.g.  \n",
    "calcAverage(89, 76, 92) --> 85.67"
   ]
  },
  {
   "cell_type": "code",
   "execution_count": 3,
   "metadata": {},
   "outputs": [],
   "source": [
    "# ここに答えを書く"
   ]
  },
  {
   "cell_type": "markdown",
   "metadata": {},
   "source": [
    "### Problem4 (関数について・4)\n",
    "\n",
    "以下のコードの問題点を指摘し, エラーを解消してください.   "
   ]
  },
  {
   "cell_type": "code",
   "execution_count": 2,
   "metadata": {},
   "outputs": [
    {
     "ename": "ZeroDivisionError",
     "evalue": "integer division or modulo by zero",
     "output_type": "error",
     "traceback": [
      "\u001b[0;31m---------------------------------------------------------------------------\u001b[0m",
      "\u001b[0;31mZeroDivisionError\u001b[0m                         Traceback (most recent call last)",
      "\u001b[0;32m<ipython-input-2-2dd2ea39c24c>\u001b[0m in \u001b[0;36m<module>\u001b[0;34m()\u001b[0m\n\u001b[1;32m      5\u001b[0m \u001b[0;34m\u001b[0m\u001b[0m\n\u001b[1;32m      6\u001b[0m \u001b[0;31m# 関数の呼び出し\u001b[0m\u001b[0;34m\u001b[0m\u001b[0;34m\u001b[0m\u001b[0m\n\u001b[0;32m----> 7\u001b[0;31m \u001b[0mret\u001b[0m \u001b[0;34m=\u001b[0m \u001b[0mdamnFunc\u001b[0m\u001b[0;34m(\u001b[0m\u001b[0;36m10\u001b[0m\u001b[0;34m,\u001b[0m \u001b[0;36m0\u001b[0m\u001b[0;34m)\u001b[0m\u001b[0;34m\u001b[0m\u001b[0m\n\u001b[0m\u001b[1;32m      8\u001b[0m \u001b[0mprint\u001b[0m\u001b[0;34m(\u001b[0m\u001b[0mret\u001b[0m\u001b[0;34m)\u001b[0m\u001b[0;34m\u001b[0m\u001b[0m\n",
      "\u001b[0;32m<ipython-input-2-2dd2ea39c24c>\u001b[0m in \u001b[0;36mdamnFunc\u001b[0;34m(x, y)\u001b[0m\n\u001b[1;32m      1\u001b[0m \u001b[0;31m# 関数の定義\u001b[0m\u001b[0;34m\u001b[0m\u001b[0;34m\u001b[0m\u001b[0m\n\u001b[1;32m      2\u001b[0m \u001b[0;32mdef\u001b[0m \u001b[0mdamnFunc\u001b[0m\u001b[0;34m(\u001b[0m\u001b[0mx\u001b[0m\u001b[0;34m,\u001b[0m \u001b[0my\u001b[0m\u001b[0;34m)\u001b[0m\u001b[0;34m:\u001b[0m\u001b[0;34m\u001b[0m\u001b[0m\n\u001b[0;32m----> 3\u001b[0;31m     \u001b[0moutput\u001b[0m \u001b[0;34m=\u001b[0m \u001b[0mx\u001b[0m \u001b[0;34m//\u001b[0m \u001b[0my\u001b[0m\u001b[0;34m\u001b[0m\u001b[0m\n\u001b[0m\u001b[1;32m      4\u001b[0m     \u001b[0mprint\u001b[0m\u001b[0;34m(\u001b[0m\u001b[0moutput\u001b[0m\u001b[0;34m)\u001b[0m\u001b[0;34m\u001b[0m\u001b[0m\n\u001b[1;32m      5\u001b[0m \u001b[0;34m\u001b[0m\u001b[0m\n",
      "\u001b[0;31mZeroDivisionError\u001b[0m: integer division or modulo by zero"
     ]
    }
   ],
   "source": [
    "# 関数の定義\n",
    "def damnFunc(x, y):\n",
    "    output = x // y\n",
    "    print(output)\n",
    "    \n",
    "# 関数の呼び出し\n",
    "ret = damnFunc(10, 0)\n",
    "print(ret)"
   ]
  },
  {
   "cell_type": "markdown",
   "metadata": {},
   "source": [
    "### Problem5 (クロージャーについて・1)\n",
    "\n",
    "呼び出されるごとに, 与えられた数から1を引いた値を返すクロージャーを定義してください.  \n",
    "ただし, 外側の関数(エンクロージャー)を **initializeCounter()** とし, 内側の関数(クロージャー)を **countDown()** としてください.\n",
    "\n",
    "e.g.  \n",
    "10を与えると, *9, 8, 7, ...* とカウントしていく"
   ]
  },
  {
   "cell_type": "code",
   "execution_count": 4,
   "metadata": {},
   "outputs": [],
   "source": [
    "# ここに答えを書く"
   ]
  },
  {
   "cell_type": "markdown",
   "metadata": {},
   "source": [
    "### Problem6 (クロージャーについて・2)\n",
    "\n",
    "8という整数を与えたときに, *6, 4, 2, 3, 1* という値を表示するプログラムをクロージャーを用いて定義してください.  \n",
    "ただし, ループやリストを用いてはならないため, クロージャーを5回呼び出すことで上記のアウトプットが得られます.  "
   ]
  },
  {
   "cell_type": "code",
   "execution_count": 5,
   "metadata": {},
   "outputs": [],
   "source": [
    "# ここに答えを書く"
   ]
  },
  {
   "cell_type": "markdown",
   "metadata": {},
   "source": [
    "### Problem7 (無名関数と引数のデフォルト値について)\n",
    "\n",
    "Problem6のクロージャーは処理が簡単であるため, 無名関数として書き直すこともできそうです. 無名関数を用いて, Problem6を書き直してください.  \n",
    "また, 初期値が与えられなかった場合には, デフォルト値で10を使用する(10からカウントする)ように上記を書き直してください.  \n",
    "つまり, デフォルト値においては, *8, 6, 4, 5, 3* が出力される.  "
   ]
  },
  {
   "cell_type": "code",
   "execution_count": 6,
   "metadata": {},
   "outputs": [],
   "source": [
    "# ここに答えを書く"
   ]
  },
  {
   "cell_type": "markdown",
   "metadata": {},
   "source": [
    "### Problem8 (最後の確認)\n",
    "\n",
    "1. `return`と`print`の違いを説明してください.  \n",
    "2. 関数とクロージャーの決定的な違いはなんですか? (ヒント: 複数回呼び出す際の結果を比較してどう違うかを考える)"
   ]
  }
 ],
 "metadata": {
  "kernelspec": {
   "display_name": "Python 3",
   "language": "python",
   "name": "python3"
  },
  "language_info": {
   "codemirror_mode": {
    "name": "ipython",
    "version": 3
   },
   "file_extension": ".py",
   "mimetype": "text/x-python",
   "name": "python",
   "nbconvert_exporter": "python",
   "pygments_lexer": "ipython3",
   "version": "3.6.4"
  }
 },
 "nbformat": 4,
 "nbformat_minor": 2
}
