{
 "cells": [
  {
   "cell_type": "markdown",
   "metadata": {},
   "source": [
    "# Homework1 Review Problems\n",
    "\n",
    "### Problem1 (関数について・1)\n",
    "\n",
    "\"Hello world.\"という文字列を出力する(プリントする)関数 **printHelloWorld()** を定義してください."
   ]
  },
  {
   "cell_type": "code",
   "execution_count": 23,
   "metadata": {},
   "outputs": [
    {
     "data": {
      "text/plain": [
       "'Hello world.'"
      ]
     },
     "execution_count": 23,
     "metadata": {},
     "output_type": "execute_result"
    }
   ],
   "source": [
    "def printHelloWorld():\n",
    "    return \"Hello world.\"\n",
    "\n",
    "printHelloWorld()"
   ]
  },
  {
   "cell_type": "code",
   "execution_count": 24,
   "metadata": {},
   "outputs": [
    {
     "name": "stdout",
     "output_type": "stream",
     "text": [
      "Hello world.\n"
     ]
    }
   ],
   "source": [
    "def printHelloWorld():\n",
    "    return \"Hello world.\"\n",
    "\n",
    "print(printHelloWorld())"
   ]
  },
  {
   "cell_type": "code",
   "execution_count": 25,
   "metadata": {},
   "outputs": [
    {
     "name": "stdout",
     "output_type": "stream",
     "text": [
      "Hello world.\n"
     ]
    }
   ],
   "source": [
    "def printHelloWorld():\n",
    "    print(\"Hello world.\")\n",
    "\n",
    "printHelloWorld()"
   ]
  },
  {
   "cell_type": "markdown",
   "metadata": {},
   "source": [
    "### Problem2 (関数について・2)\n",
    "\n",
    "\"Hello 〇〇\"という文字列(〇〇は名前)を出力する関数 **greeting()** を定義してください."
   ]
  },
  {
   "cell_type": "code",
   "execution_count": 1,
   "metadata": {},
   "outputs": [
    {
     "name": "stdout",
     "output_type": "stream",
     "text": [
      "Hello Mark\n"
     ]
    }
   ],
   "source": [
    "def greeting(name):\n",
    "    return \"Hello \" + name\n",
    "\n",
    "print(greeting(\"Mark\"))"
   ]
  },
  {
   "cell_type": "markdown",
   "metadata": {},
   "source": [
    "### Problem3 (関数について・3)\n",
    "\n",
    "3つの値を取り, その平均を計算する関数 **calcAverage()** を定義してください.  \n",
    "ただし, リストやループなどを使用してはいけません.  \n",
    "\n",
    "e.g.  \n",
    "calcAverage(89, 76, 92) --> 85.67"
   ]
  },
  {
   "cell_type": "code",
   "execution_count": 28,
   "metadata": {},
   "outputs": [
    {
     "name": "stdout",
     "output_type": "stream",
     "text": [
      "85.66666666666667\n"
     ]
    }
   ],
   "source": [
    "def calcAverage(x, y, z):\n",
    "    return (x + y + z) / 3\n",
    "\n",
    "print(calcAverage(89, 76, 92))"
   ]
  },
  {
   "cell_type": "markdown",
   "metadata": {},
   "source": [
    "### Problem4 (関数について・4)\n",
    "\n",
    "以下のコードの問題点を指摘し, エラーを解消してください.   "
   ]
  },
  {
   "cell_type": "code",
   "execution_count": 2,
   "metadata": {},
   "outputs": [
    {
     "ename": "ZeroDivisionError",
     "evalue": "integer division or modulo by zero",
     "output_type": "error",
     "traceback": [
      "\u001b[0;31m---------------------------------------------------------------------------\u001b[0m",
      "\u001b[0;31mZeroDivisionError\u001b[0m                         Traceback (most recent call last)",
      "\u001b[0;32m<ipython-input-2-2dd2ea39c24c>\u001b[0m in \u001b[0;36m<module>\u001b[0;34m()\u001b[0m\n\u001b[1;32m      5\u001b[0m \u001b[0;34m\u001b[0m\u001b[0m\n\u001b[1;32m      6\u001b[0m \u001b[0;31m# 関数の呼び出し\u001b[0m\u001b[0;34m\u001b[0m\u001b[0;34m\u001b[0m\u001b[0m\n\u001b[0;32m----> 7\u001b[0;31m \u001b[0mret\u001b[0m \u001b[0;34m=\u001b[0m \u001b[0mdamnFunc\u001b[0m\u001b[0;34m(\u001b[0m\u001b[0;36m10\u001b[0m\u001b[0;34m,\u001b[0m \u001b[0;36m0\u001b[0m\u001b[0;34m)\u001b[0m\u001b[0;34m\u001b[0m\u001b[0m\n\u001b[0m\u001b[1;32m      8\u001b[0m \u001b[0mprint\u001b[0m\u001b[0;34m(\u001b[0m\u001b[0mret\u001b[0m\u001b[0;34m)\u001b[0m\u001b[0;34m\u001b[0m\u001b[0m\n",
      "\u001b[0;32m<ipython-input-2-2dd2ea39c24c>\u001b[0m in \u001b[0;36mdamnFunc\u001b[0;34m(x, y)\u001b[0m\n\u001b[1;32m      1\u001b[0m \u001b[0;31m# 関数の定義\u001b[0m\u001b[0;34m\u001b[0m\u001b[0;34m\u001b[0m\u001b[0m\n\u001b[1;32m      2\u001b[0m \u001b[0;32mdef\u001b[0m \u001b[0mdamnFunc\u001b[0m\u001b[0;34m(\u001b[0m\u001b[0mx\u001b[0m\u001b[0;34m,\u001b[0m \u001b[0my\u001b[0m\u001b[0;34m)\u001b[0m\u001b[0;34m:\u001b[0m\u001b[0;34m\u001b[0m\u001b[0m\n\u001b[0;32m----> 3\u001b[0;31m     \u001b[0moutput\u001b[0m \u001b[0;34m=\u001b[0m \u001b[0mx\u001b[0m \u001b[0;34m//\u001b[0m \u001b[0my\u001b[0m\u001b[0;34m\u001b[0m\u001b[0m\n\u001b[0m\u001b[1;32m      4\u001b[0m     \u001b[0mprint\u001b[0m\u001b[0;34m(\u001b[0m\u001b[0moutput\u001b[0m\u001b[0;34m)\u001b[0m\u001b[0;34m\u001b[0m\u001b[0m\n\u001b[1;32m      5\u001b[0m \u001b[0;34m\u001b[0m\u001b[0m\n",
      "\u001b[0;31mZeroDivisionError\u001b[0m: integer division or modulo by zero"
     ]
    }
   ],
   "source": [
    "# 関数の定義\n",
    "def damnFunc(x, y):\n",
    "    output = x // y\n",
    "    print(output)\n",
    "    \n",
    "# 関数の呼び出し\n",
    "ret = damnFunc(10, 0)\n",
    "print(ret)"
   ]
  },
  {
   "cell_type": "code",
   "execution_count": 29,
   "metadata": {},
   "outputs": [
    {
     "name": "stdout",
     "output_type": "stream",
     "text": [
      "Cannot divide by 0.\n"
     ]
    }
   ],
   "source": [
    "def damnFunc(x, y):\n",
    "    if y != 0:\n",
    "        output = x // y\n",
    "    else:\n",
    "        return \"Cannot divide by 0.\"\n",
    "    return output\n",
    "\n",
    "\n",
    "ret = damnFunc(10, 0)\n",
    "print(ret)"
   ]
  },
  {
   "cell_type": "markdown",
   "metadata": {},
   "source": [
    "### Problem5 (クロージャーについて・1)\n",
    "\n",
    "呼び出されるごとに, 与えられた数から1を引いた値を返すクロージャーを定義してください.  \n",
    "ただし, 外側の関数(エンクロージャー)を **initializeCounter()** とし, 内側の関数(クロージャー)を **countDown()** としてください.\n",
    "\n",
    "e.g.  \n",
    "10を与えると, *9, 8, 7, ...* とカウントしていく"
   ]
  },
  {
   "cell_type": "code",
   "execution_count": 2,
   "metadata": {},
   "outputs": [
    {
     "name": "stdout",
     "output_type": "stream",
     "text": [
      "9\n",
      "8\n",
      "7\n"
     ]
    }
   ],
   "source": [
    "def initializeCounter(n):\n",
    "    c = n\n",
    "    \n",
    "    def countDown():\n",
    "        nonlocal c\n",
    "        c -= 1\n",
    "        return c\n",
    "    \n",
    "    return countDown\n",
    "\n",
    "counter = initializeCounter(10)\n",
    "print(counter())\n",
    "print(counter())\n",
    "print(counter())"
   ]
  },
  {
   "cell_type": "markdown",
   "metadata": {},
   "source": [
    "### Problem6 (クロージャーについて・2)\n",
    "\n",
    "8という整数を与えたときに, *6, 4, 2, 3, 1* という値を表示するプログラムをクロージャーを用いて定義してください.  \n",
    "ただし, ループやリストを用いてはならないため, クロージャーを5回呼び出すことで上記のアウトプットが得られます.  "
   ]
  },
  {
   "cell_type": "code",
   "execution_count": 17,
   "metadata": {},
   "outputs": [
    {
     "name": "stdout",
     "output_type": "stream",
     "text": [
      "6\n",
      "4\n",
      "2\n",
      "3\n",
      "1\n"
     ]
    }
   ],
   "source": [
    "def initializeCounter(c, upOrDown):\n",
    "    \n",
    "    def count():\n",
    "        nonlocal c\n",
    "        c = upOrDown(c)\n",
    "        return c\n",
    "    \n",
    "    return count\n",
    "\n",
    "def countUp(c):\n",
    "    return c + 1\n",
    "\n",
    "def countDown(c):\n",
    "    return c - 2\n",
    "\n",
    "\n",
    "counter = initializeCounter(8, countDown)\n",
    "print(counter())\n",
    "print(counter())\n",
    "tempVal = counter()\n",
    "print(tempVal)\n",
    "counter = initializeCounter(tempVal, countUp)\n",
    "tempVal_2 = counter()\n",
    "print(tempVal_2)\n",
    "counter = initializeCounter(tempVal_2, countDown)\n",
    "tempVal_3 = counter()\n",
    "print(tempVal_3)"
   ]
  },
  {
   "cell_type": "markdown",
   "metadata": {},
   "source": [
    "### Problem7 (無名関数と引数のデフォルト値について)\n",
    "\n",
    "Problem6のクロージャーは処理が簡単であるため, 無名関数として書き直すこともできそうです. 無名関数を用いて, Problem6を書き直してください.  \n",
    "また, 初期値が与えられなかった場合には, デフォルト値で10を使用する(10からカウントする)ように上記を書き直してください.  \n",
    "つまり, デフォルト値においては, *8, 6, 4, 5, 3* が出力される.  "
   ]
  },
  {
   "cell_type": "code",
   "execution_count": 30,
   "metadata": {},
   "outputs": [
    {
     "name": "stdout",
     "output_type": "stream",
     "text": [
      "8\n",
      "6\n",
      "4\n",
      "5\n",
      "3\n"
     ]
    }
   ],
   "source": [
    "def initializeCounter(upOrDown, c=10):\n",
    "    \n",
    "    def count():\n",
    "        nonlocal c\n",
    "        c = upOrDown(c)\n",
    "        return c\n",
    "    \n",
    "    return count\n",
    "\n",
    "\n",
    "counter = initializeCounter(lambda c: c - 2)\n",
    "print(counter())\n",
    "print(counter())\n",
    "tempVal = counter()\n",
    "print(tempVal)\n",
    "counter = initializeCounter(lambda c: c + 1, tempVal)\n",
    "tempVal_2 = counter()\n",
    "print(tempVal_2)\n",
    "counter = initializeCounter(lambda c: c - 2, tempVal_2)\n",
    "tempVal_3 = counter()\n",
    "print(tempVal_3)"
   ]
  },
  {
   "cell_type": "markdown",
   "metadata": {},
   "source": [
    "### Problem8 (最後の確認)\n",
    "\n",
    "1. `return`と`print`の違いを説明してください.  \n",
    "2. 関数とクロージャーの決定的な違いはなんですか? (ヒント: 複数回呼び出す際の結果を比較してどう違うかを考える)"
   ]
  }
 ],
 "metadata": {
  "kernelspec": {
   "display_name": "Python 3",
   "language": "python",
   "name": "python3"
  },
  "language_info": {
   "codemirror_mode": {
    "name": "ipython",
    "version": 3
   },
   "file_extension": ".py",
   "mimetype": "text/x-python",
   "name": "python",
   "nbconvert_exporter": "python",
   "pygments_lexer": "ipython3",
   "version": "3.6.4"
  }
 },
 "nbformat": 4,
 "nbformat_minor": 2
}
