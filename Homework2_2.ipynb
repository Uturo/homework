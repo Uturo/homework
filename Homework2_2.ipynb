{
 "cells": [
  {
   "cell_type": "markdown",
   "metadata": {},
   "source": [
    "# Homework 2 (*vol.2*)\n",
    "\n",
    "#### トピック: 条件文, ループ, リスト, 文字列\n",
    "\n",
    "### Problem 1\n",
    "\n",
    "Built-inメソッドやリストのスライスを使わずに, 与えられた文字列を逆さにする関数 **reverseString()** を定義してください.\n",
    "\n",
    "e.g.)  \n",
    "Input: \"Hello\" - Output: \"olleH\"  \n",
    "Input: \" \" - Output: \" \""
   ]
  },
  {
   "cell_type": "code",
   "execution_count": 84,
   "metadata": {},
   "outputs": [
    {
     "name": "stdout",
     "output_type": "stream",
     "text": [
      "shingo kato\n",
      "otak ognihs\n"
     ]
    }
   ],
   "source": [
    "def reverseString(s):\n",
    "    s = s[::-1]\n",
    "    return s\n",
    "s = input()\n",
    "print(reverseString(s))"
   ]
  },
  {
   "cell_type": "code",
   "execution_count": 85,
   "metadata": {},
   "outputs": [
    {
     "name": "stdout",
     "output_type": "stream",
     "text": [
      "olleH\n"
     ]
    }
   ],
   "source": [
    "def reverseString(s):\n",
    "    s_reverse = \"\"\n",
    "    for i in range (len(s)-1,-1,-1):\n",
    "        s_reverse += s[i]\n",
    "    return s_reverse\n",
    "\n",
    "print(reverseString(\"Hello\"))"
   ]
  },
  {
   "cell_type": "code",
   "execution_count": 107,
   "metadata": {},
   "outputs": [
    {
     "name": "stdout",
     "output_type": "stream",
     "text": [
      "how dare you are\n",
      "era uoy erad woh\n"
     ]
    }
   ],
   "source": [
    "def reverseString(s):\n",
    "    s = s[::-1]\n",
    "    return s\n",
    "s = input()\n",
    "\n",
    "print(reverseString(s))"
   ]
  },
  {
   "cell_type": "code",
   "execution_count": 108,
   "metadata": {},
   "outputs": [
    {
     "name": "stdout",
     "output_type": "stream",
     "text": [
      "olleH\n",
      "ognihs\n"
     ]
    }
   ],
   "source": [
    "def reverseString(s):\n",
    "    s_reverse = \"\"\n",
    "    for i in range(len(s)-1,-1,-1):\n",
    "        s_reverse += s[i]\n",
    "    return s_reverse\n",
    "\n",
    "print(reverseString(\"Hello\"))\n",
    "print(reverseString(\"shingo\"))"
   ]
  },
  {
   "cell_type": "markdown",
   "metadata": {},
   "source": [
    "### Problem 2\n",
    "\n",
    "2つのリストが与えられたとき, そのリストの共通の要素をリストとして返す関数 **findDuplicates()** を定義してください.\n",
    "\n",
    "e.g.)  \n",
    "Input: [1, 2, 3], [6, 3, 1] - Output: [1, 3]  \n",
    "Input: [], [4, 2, 9] - Output: []"
   ]
  },
  {
   "cell_type": "code",
   "execution_count": 111,
   "metadata": {},
   "outputs": [
    {
     "name": "stdout",
     "output_type": "stream",
     "text": [
      "[1, 3]\n",
      "[]\n"
     ]
    }
   ],
   "source": [
    "def findDuplicates(l1, l2):\n",
    "    ret = []\n",
    "    for elm in l1:\n",
    "        if elm in l2:\n",
    "            ret.append(elm)\n",
    "    return ret\n",
    "\n",
    "print(findDuplicates([1, 2, 3], [6, 3, 1]))\n",
    "print(findDuplicates([], [4, 2, 9]))"
   ]
  },
  {
   "cell_type": "code",
   "execution_count": 113,
   "metadata": {},
   "outputs": [
    {
     "name": "stdout",
     "output_type": "stream",
     "text": [
      "[1, 3]\n",
      "[]\n"
     ]
    }
   ],
   "source": [
    "def findDuplicates(l1, l2):\n",
    "    ret = []\n",
    "    for elm in l1:\n",
    "        if elm in l2:\n",
    "            ret.append(elm)\n",
    "    return ret\n",
    "    \n",
    "print(findDuplicates([1, 2, 3], [6, 3, 1]))\n",
    "print(findDuplicates([], [4, 2, 9])) "
   ]
  },
  {
   "cell_type": "code",
   "execution_count": 114,
   "metadata": {},
   "outputs": [
    {
     "name": "stdout",
     "output_type": "stream",
     "text": [
      "[1, 3]\n",
      "[]\n"
     ]
    }
   ],
   "source": [
    "def findDuplicates(l1, l2):\n",
    "    ret = []\n",
    "    for elm in l1:\n",
    "        if elm in l2:\n",
    "            ret.append(elm)\n",
    "    return ret\n",
    "\n",
    "print(findDuplicates([1, 2, 3], [6, 3, 1]))\n",
    "print(findDuplicates([], [4, 2, 9]))"
   ]
  },
  {
   "cell_type": "markdown",
   "metadata": {},
   "source": [
    "### Problem 3\n",
    "\n",
    "与えられた文字列が回文であるか(どちらから読んでも同じ文字列)を判別する関数 **isPalindrome()** を定義してください.  \n",
    "ただし, 与えられた文字列をソートせずにアルゴリズムを実装してみてください.\n",
    "\n",
    "e.g.)  \n",
    "Input: \"abcba\" - Output: True  \n",
    "Input: \"abc\" - Output: False  \n",
    "Input: \"a\" - Output: True"
   ]
  },
  {
   "cell_type": "code",
   "execution_count": 39,
   "metadata": {},
   "outputs": [
    {
     "name": "stdout",
     "output_type": "stream",
     "text": [
      "abc\n",
      "False\n"
     ]
    }
   ],
   "source": [
    "def isPalindrome(x):\n",
    "    if x == x[::-1]:\n",
    "        return True\n",
    "    else:\n",
    "        return False\n",
    "\n",
    "x = input()   \n",
    "print (isPalindrome(x))"
   ]
  },
  {
   "cell_type": "code",
   "execution_count": 117,
   "metadata": {},
   "outputs": [
    {
     "name": "stdout",
     "output_type": "stream",
     "text": [
      "山本山\n",
      "True\n"
     ]
    }
   ],
   "source": [
    "def isPalindrome(x):\n",
    "    if x == x[::-1]:\n",
    "        return True\n",
    "    else:\n",
    "        return False\n",
    "    \n",
    "x = input()\n",
    "print(isPalindrome(x))"
   ]
  },
  {
   "cell_type": "code",
   "execution_count": 116,
   "metadata": {},
   "outputs": [
    {
     "name": "stdout",
     "output_type": "stream",
     "text": [
      "True\n",
      "False\n"
     ]
    }
   ],
   "source": [
    "def isPalindrome(s):\n",
    "    left = 0\n",
    "    right = len(s) - 1\n",
    "    while right >= left:\n",
    "        if s[left] != s[right]:\n",
    "            return False\n",
    "        left += 1\n",
    "        right -= 1\n",
    "    return True\n",
    "\n",
    "print(isPalindrome(\"abcba\"))\n",
    "print(isPalindrome(\"abc\"))"
   ]
  },
  {
   "cell_type": "code",
   "execution_count": 120,
   "metadata": {},
   "outputs": [
    {
     "name": "stdout",
     "output_type": "stream",
     "text": [
      "True\n",
      "False\n"
     ]
    }
   ],
   "source": [
    "def isPalindrome(s):\n",
    "    left = 0\n",
    "    right = len(s) - 1\n",
    "    while right >= left:\n",
    "        if s[left] != s[right]:\n",
    "            return False\n",
    "        left +=1\n",
    "        right -= 1\n",
    "    return True\n",
    "\n",
    "print(isPalindrome(\"abcba\"))\n",
    "print(isPalindrome(\"abc\"))"
   ]
  },
  {
   "cell_type": "markdown",
   "metadata": {},
   "source": [
    "### Problem 4\n",
    "\n",
    "ユークリッドの互除法 (https://ja.wikipedia.org/wiki/ユークリッドの互除法) を用いて, 与えられた2つの整数の最大公約数を求める関数 **gcd()** を定義してください.\n",
    "\n",
    "e.g.)  \n",
    "Input: 1071, 1029 - Output: 21"
   ]
  },
  {
   "cell_type": "code",
   "execution_count": 50,
   "metadata": {},
   "outputs": [
    {
     "name": "stdout",
     "output_type": "stream",
     "text": [
      "21\n"
     ]
    }
   ],
   "source": [
    "def gcd(x, y):\n",
    "    if y == 0:\n",
    "        return x\n",
    "    else: \n",
    "        return gcd(y, x%y)\n",
    "print(gcd(1071, 1029))"
   ]
  },
  {
   "cell_type": "code",
   "execution_count": 96,
   "metadata": {},
   "outputs": [
    {
     "name": "stdout",
     "output_type": "stream",
     "text": [
      "21\n"
     ]
    }
   ],
   "source": [
    "def "
   ]
  },
  {
   "cell_type": "code",
   "execution_count": 57,
   "metadata": {},
   "outputs": [
    {
     "name": "stdout",
     "output_type": "stream",
     "text": [
      "1071, 1029\n"
     ]
    },
    {
     "ename": "ValueError",
     "evalue": "invalid literal for int() with base 10: '1071,'",
     "output_type": "error",
     "traceback": [
      "\u001b[0;31m---------------------------------------------------------------------------\u001b[0m",
      "\u001b[0;31mValueError\u001b[0m                                Traceback (most recent call last)",
      "\u001b[0;32m<ipython-input-57-61c546e27f6e>\u001b[0m in \u001b[0;36m<module>\u001b[0;34m\u001b[0m\n\u001b[0;32m----> 1\u001b[0;31m \u001b[0mx\u001b[0m\u001b[0;34m,\u001b[0m \u001b[0my\u001b[0m \u001b[0;34m=\u001b[0m \u001b[0mmap\u001b[0m\u001b[0;34m(\u001b[0m\u001b[0mint\u001b[0m\u001b[0;34m,\u001b[0m\u001b[0minput\u001b[0m\u001b[0;34m(\u001b[0m\u001b[0;34m)\u001b[0m\u001b[0;34m.\u001b[0m\u001b[0msplit\u001b[0m\u001b[0;34m(\u001b[0m\u001b[0;34m)\u001b[0m\u001b[0;34m)\u001b[0m\u001b[0;34m\u001b[0m\u001b[0;34m\u001b[0m\u001b[0m\n\u001b[0m\u001b[1;32m      2\u001b[0m \u001b[0;32mdef\u001b[0m \u001b[0mgcd\u001b[0m\u001b[0;34m(\u001b[0m\u001b[0mx\u001b[0m\u001b[0;34m,\u001b[0m \u001b[0my\u001b[0m\u001b[0;34m)\u001b[0m\u001b[0;34m:\u001b[0m\u001b[0;34m\u001b[0m\u001b[0;34m\u001b[0m\u001b[0m\n\u001b[1;32m      3\u001b[0m     \u001b[0;32mif\u001b[0m \u001b[0my\u001b[0m \u001b[0;34m==\u001b[0m \u001b[0;36m0\u001b[0m\u001b[0;34m:\u001b[0m\u001b[0;34m\u001b[0m\u001b[0;34m\u001b[0m\u001b[0m\n\u001b[1;32m      4\u001b[0m         \u001b[0;32mreturn\u001b[0m \u001b[0mx\u001b[0m\u001b[0;34m\u001b[0m\u001b[0;34m\u001b[0m\u001b[0m\n\u001b[1;32m      5\u001b[0m     \u001b[0;32melse\u001b[0m\u001b[0;34m:\u001b[0m\u001b[0;34m\u001b[0m\u001b[0;34m\u001b[0m\u001b[0m\n",
      "\u001b[0;31mValueError\u001b[0m: invalid literal for int() with base 10: '1071,'"
     ]
    }
   ],
   "source": [
    "x, y = map(int,input().split())\n",
    "def gcd(x, y):\n",
    "    if y == 0:\n",
    "        return x\n",
    "    else: \n",
    "        return gcd(y, x%y)\n",
    "print(gcd(x, y))\n"
   ]
  },
  {
   "cell_type": "code",
   "execution_count": 68,
   "metadata": {},
   "outputs": [
    {
     "name": "stdout",
     "output_type": "stream",
     "text": [
      "21\n"
     ]
    }
   ],
   "source": [
    "def gcd(a, b):\n",
    "    while b:\n",
    "        (a, b) = (b, a%b)\n",
    "    return a\n",
    "\n",
    "print(gcd(1071, 1029))"
   ]
  },
  {
   "cell_type": "code",
   "execution_count": 97,
   "metadata": {},
   "outputs": [
    {
     "name": "stdout",
     "output_type": "stream",
     "text": [
      "21\n"
     ]
    }
   ],
   "source": [
    "def gcd(a, b):\n",
    "    while b:\n",
    "        (a, b) = (b, a%b)\n",
    "    return a\n",
    "\n",
    "print(gcd(1071, 1029))"
   ]
  },
  {
   "cell_type": "markdown",
   "metadata": {},
   "source": [
    "### Problem 5\n",
    "\n",
    "与えられた数が偶数であるか, 奇数であるか, 素数であるかを判別する関数 **evenOddPrime()** を定義してください.  \n",
    "ただし, 奇数であり素数でもある場合もあることに注意し(e.g. 3), 負の数が与えられた場合には **\"Negative\"** という文字列をプリントし, 計算量は考慮しないものとします(つまり動けばよいということ).\n",
    "\n",
    "e.g.)  \n",
    "Input: 28 - Output: \"Even\"  \n",
    "Input: -1 - Output: \"Negative\"  \n",
    "Input: 17 - Output: \"Odd\", \"Prime\""
   ]
  },
  {
   "cell_type": "code",
   "execution_count": 74,
   "metadata": {},
   "outputs": [
    {
     "name": "stdout",
     "output_type": "stream",
     "text": [
      "Even\n",
      "Zero\n",
      "negative\n",
      "Odd\n",
      "Odd\n",
      "prime\n",
      "Odd\n",
      "prime\n",
      "prime\n",
      "prime\n",
      "prime\n",
      "prime\n",
      "prime\n",
      "prime\n",
      "prime\n",
      "prime\n",
      "prime\n",
      "prime\n",
      "prime\n",
      "prime\n",
      "prime\n",
      "prime\n"
     ]
    }
   ],
   "source": [
    "def evenOddPrime(n):\n",
    "    if n < 0:\n",
    "        print(\"negative\")\n",
    "    elif n == 0:\n",
    "        print(\"Zero\")\n",
    "    elif n %2 == 0:\n",
    "        print(\"Even\")\n",
    "        if n == 2:\n",
    "            print(\"prime\")\n",
    "    \n",
    "    else:\n",
    "        print(\"Odd\")\n",
    "        if n == 1:\n",
    "            pass\n",
    "        else:\n",
    "            for d in range(2, n):\n",
    "                if n % d == 0:\n",
    "                    break\n",
    "                else:\n",
    "                    print(\"prime\")\n",
    "                        \n",
    "                    \n",
    "evenOddPrime(28)\n",
    "evenOddPrime(0)\n",
    "evenOddPrime(-1)\n",
    "evenOddPrime(1)\n",
    "evenOddPrime(15)\n",
    "evenOddPrime(17)"
   ]
  },
  {
   "cell_type": "code",
   "execution_count": 100,
   "metadata": {},
   "outputs": [
    {
     "name": "stdout",
     "output_type": "stream",
     "text": [
      "Even\n",
      "Zero\n"
     ]
    }
   ],
   "source": [
    "def evenOddPrime(n):\n",
    "    if n < 0:\n",
    "        print(\"negative\")\n",
    "    elif n == 0:\n",
    "        print(\"Zero\")\n",
    "    elif n %2 == 0:\n",
    "        print(\"Even\")\n",
    "        if n == 2:\n",
    "            print(\"prime\")\n",
    "    \n",
    "    else:\n",
    "        print(\"odd\")\n",
    "        if n == 1:\n",
    "            pass\n",
    "        else:\n",
    "            for d in range(2, n):\n",
    "                if n % d == 0:\n",
    "                    break\n",
    "                else:\n",
    "                    print(\"prime\")\n",
    "                    \n",
    "evenOddPrime(28)\n",
    "evenOddPrime(0)"
   ]
  },
  {
   "cell_type": "markdown",
   "metadata": {},
   "source": [
    "### Problem 6\n",
    "\n",
    "与えられた整数のリストを小さい順に並び替える(ソートする)関数 **simpleSort()** を定義してください.  \n",
    "ソートに使用するアルゴリズムはどのようなものでも構いませんが, 調べずに自分の頭で考えてアルゴリズムをコードで表してみてください.\n",
    "\n",
    "e.g.)  \n",
    "Input: [4, 1, 9, 5, 3] - Output: [1, 3, 4, 5, 9]"
   ]
  },
  {
   "cell_type": "code",
   "execution_count": 77,
   "metadata": {},
   "outputs": [
    {
     "name": "stdout",
     "output_type": "stream",
     "text": [
      "[1, 3, 4, 5, 9]\n"
     ]
    }
   ],
   "source": [
    "def simpleSort():\n",
    "    simpleSort = [4, 1, 9, 5, 3]\n",
    "    simpleSort.sort()\n",
    "    return simpleSort\n",
    "\n",
    "print(simpleSort())\n",
    "    "
   ]
  },
  {
   "cell_type": "code",
   "execution_count": 101,
   "metadata": {},
   "outputs": [
    {
     "name": "stdout",
     "output_type": "stream",
     "text": [
      "[1, 3, 4, 5, 9]\n"
     ]
    }
   ],
   "source": [
    "def simpleSort():\n",
    "    simpleSort = [4, 1, 9, 5, 3]\n",
    "    simpleSort.sort()\n",
    "    return simpleSort\n",
    "\n",
    "print(simpleSort())"
   ]
  },
  {
   "cell_type": "code",
   "execution_count": 75,
   "metadata": {},
   "outputs": [
    {
     "name": "stdout",
     "output_type": "stream",
     "text": [
      "[1, 3, 4, 5, 9]\n"
     ]
    }
   ],
   "source": [
    "def simpleSort(l):\n",
    "    for i in range(1, len(l)):\n",
    "        pos = i\n",
    "        cur = l[i]\n",
    "        while pos > 0 and l[pos-1]> cur:\n",
    "            l[pos] = l[pos-1]\n",
    "            pos -= 1\n",
    "        l[pos] = cur\n",
    "        \n",
    "l = [4, 1, 9, 5, 3]\n",
    "simpleSort(l)\n",
    "print(l)"
   ]
  },
  {
   "cell_type": "code",
   "execution_count": 103,
   "metadata": {},
   "outputs": [
    {
     "name": "stdout",
     "output_type": "stream",
     "text": [
      "[1, 3, 4, 5, 9]\n"
     ]
    }
   ],
   "source": [
    "def simpleSort(I):\n",
    "    for i in range(1, len(l)):\n",
    "        pos = i\n",
    "        cur = l[i]\n",
    "        while pos > 0 and l[pos-1]>cur:\n",
    "            l[pos] = l[pos-1]\n",
    "            pos -= 1\n",
    "        l[pos] = cur\n",
    "\n",
    "l = [4, 1, 9, 5, 3]\n",
    "simpleSort(l)\n",
    "print(l)"
   ]
  },
  {
   "cell_type": "markdown",
   "metadata": {},
   "source": [
    " ### Problem 7 (Excerpt from \"Cracking the Coding Interview\")\n",
    "\n",
    "与えられた文字列が他の文字列の一部(substring)であるかを判定する関数 **isSubstring()** が以下のように定義されているとします.  \n",
    "この関数 **isSubstring()** を**一回のみ**呼び出して, 2つの文字列 s1, s2 を引数に取り, s2がs1を1回転させたものであるかを判定する関数 **isRotation()** を定義してください.\n",
    "\n",
    "e.g.)  \n",
    "Input: \"waterbottle\", \"erbottlewat\" - Output: True    \n",
    "Input: \"waterbottle\", \"botterlewat\" - Output: False"
   ]
  },
  {
   "cell_type": "code",
   "execution_count": 80,
   "metadata": {},
   "outputs": [
    {
     "name": "stdout",
     "output_type": "stream",
     "text": [
      "True\n",
      "False\n"
     ]
    }
   ],
   "source": [
    "def isSubstring(s1, s2):\n",
    "    return s1 in s2\n",
    "\n",
    "def isRotation(s1, s2):\n",
    "    length = len(s1)\n",
    "    if length > 0 and length == len(s2):\n",
    "        s1s1 = s1 + s1\n",
    "        return isSubstring(s2, s1s1)\n",
    "\n",
    "print(isRotation(\"waterbottle\", \"erbottlewat\"))\n",
    "print(isRotation(\"waterbottle\", \"botterlewat\"))"
   ]
  },
  {
   "cell_type": "code",
   "execution_count": 105,
   "metadata": {},
   "outputs": [
    {
     "name": "stdout",
     "output_type": "stream",
     "text": [
      "True\n"
     ]
    }
   ],
   "source": [
    "def isSubstring(s1, s2):\n",
    "    return s1 in s2\n",
    "\n",
    "def isRotation(s1, s2):\n",
    "    length = len(s1)\n",
    "    if length > 0 and length == len(s2):\n",
    "        s1s1 = s1 + s1\n",
    "        return isSubstring(s2, s1s1)\n",
    "    \n",
    "print(isRotation(\"waterbottle\", \"erbottlewat\"))"
   ]
  }
 ],
 "metadata": {
  "kernelspec": {
   "display_name": "Python 3",
   "language": "python",
   "name": "python3"
  },
  "language_info": {
   "codemirror_mode": {
    "name": "ipython",
    "version": 3
   },
   "file_extension": ".py",
   "mimetype": "text/x-python",
   "name": "python",
   "nbconvert_exporter": "python",
   "pygments_lexer": "ipython3",
   "version": "3.7.3"
  }
 },
 "nbformat": 4,
 "nbformat_minor": 2
}
