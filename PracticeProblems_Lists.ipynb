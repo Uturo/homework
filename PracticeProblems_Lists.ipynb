{
 "cells": [
  {
   "cell_type": "markdown",
   "metadata": {},
   "source": [
    "# Practice Problems\n",
    "\n",
    "*トピック: リストと文字列, コントロールフロー*\n",
    "\n",
    "### Problem 1\n",
    "\n",
    "以下のリストにループをかけて各要素をプリントしてください. ただし, 以下に示すように3通りの書き方を考えてください.  \n",
    "\n",
    "`[2, 5, 8, 1, 3, 10]`"
   ]
  },
  {
   "cell_type": "code",
   "execution_count": 4,
   "metadata": {},
   "outputs": [
    {
     "name": "stdout",
     "output_type": "stream",
     "text": [
      "2\n",
      "5\n",
      "8\n",
      "1\n",
      "3\n",
      "10\n"
     ]
    }
   ],
   "source": [
    "l = [2, 5, 8, 1, 3, 10]\n",
    "# for-in型による実装\n",
    "for n in l:\n",
    "    print(n)\n",
    "\n"
   ]
  },
  {
   "cell_type": "code",
   "execution_count": 14,
   "metadata": {},
   "outputs": [
    {
     "name": "stdout",
     "output_type": "stream",
     "text": [
      "5\n"
     ]
    }
   ],
   "source": [
    "l = [2, 5, 8, 1, 3, 10]\n",
    "\n",
    "print(l[1])"
   ]
  },
  {
   "cell_type": "code",
   "execution_count": 15,
   "metadata": {},
   "outputs": [
    {
     "name": "stdout",
     "output_type": "stream",
     "text": [
      "2\n",
      "5\n",
      "8\n",
      "1\n",
      "3\n",
      "10\n"
     ]
    }
   ],
   "source": [
    "# for-range型による実装\n",
    "\n",
    "for i in range(len(l)):\n",
    "    print(l[i])"
   ]
  },
  {
   "cell_type": "code",
   "execution_count": 5,
   "metadata": {},
   "outputs": [
    {
     "name": "stdout",
     "output_type": "stream",
     "text": [
      "2\n",
      "5\n",
      "8\n",
      "1\n",
      "3\n",
      "10\n"
     ]
    }
   ],
   "source": [
    "# whileによる実装\n",
    "i = 0\n",
    "while i < len(l):\n",
    "    print(l[i])\n",
    "    i += 1\n",
    "   \n",
    "    "
   ]
  },
  {
   "cell_type": "markdown",
   "metadata": {},
   "source": [
    "### Problem 2\n",
    "\n",
    "以下のネストされたリストにループを書け、各要素をプリントしてください. ただし, プリントされる結果は *1,2,3,4...* と順番になるようにしてください.  \n",
    "\n",
    "`[[[1, 2], [3, 4]], [[5, 6]], [[7, 8], [9, 10]]]`"
   ]
  },
  {
   "cell_type": "code",
   "execution_count": 7,
   "metadata": {},
   "outputs": [],
   "source": [
    "l2 = [[[1, 2], [3, 4]], [[5, 6]], [[7, 8], [9, 10]]]"
   ]
  },
  {
   "cell_type": "code",
   "execution_count": 8,
   "metadata": {},
   "outputs": [
    {
     "name": "stdout",
     "output_type": "stream",
     "text": [
      "[[1, 2], [3, 4]]\n",
      "1\n"
     ]
    }
   ],
   "source": [
    "print(l2[0])\n",
    "print(l2[0][0][0])"
   ]
  },
  {
   "cell_type": "code",
   "execution_count": 18,
   "metadata": {},
   "outputs": [
    {
     "name": "stdout",
     "output_type": "stream",
     "text": [
      "1 2 3 4 5 6 7 8 9 10\n"
     ]
    }
   ],
   "source": [
    "print(l2[0][0][0], l2[0][0][1],  l2[0][1][0],  l2[0][1][1], l2[1][0][0],  l2[1][0][1],  l2[2][0][0],  l2[2][0][1],  l2[2][1][0],  l2[2][1][1] )"
   ]
  },
  {
   "cell_type": "markdown",
   "metadata": {},
   "source": [
    "### Problem 3\n",
    "\n",
    "与えられた2つのリストが同じ要素を含んでいるか(**順番や重複する要素の数は考慮しない**)を判別する関数を定義してください.  \n",
    "ただし, Pythonの組み込みの関数である *set()* などは用いてはいけません.  \n",
    "\n",
    "e.g.  \n",
    "Input: [1, 2, 3], [1, 2, 3] - Output: True  \n",
    "Input: [1, 2, 3], [1, 3, 4] - Output: False  \n",
    "Input: [18, 28, 5, 12], [28, 5, 12, 18] - Output: True  \n",
    "Input: [18, 28, 5, 12], [28, 5, 12, 18, 5, 28] - Output: True  \n",
    "Input: [1, 2], [4, 2, 1] - Output: False"
   ]
  },
  {
   "cell_type": "code",
   "execution_count": 21,
   "metadata": {},
   "outputs": [
    {
     "ename": "SyntaxError",
     "evalue": "invalid syntax (<ipython-input-21-47ae97c1f94e>, line 3)",
     "output_type": "error",
     "traceback": [
      "\u001b[0;36m  File \u001b[0;32m\"<ipython-input-21-47ae97c1f94e>\"\u001b[0;36m, line \u001b[0;32m3\u001b[0m\n\u001b[0;31m    def sameSets(l3, l4)\u001b[0m\n\u001b[0m                        ^\u001b[0m\n\u001b[0;31mSyntaxError\u001b[0m\u001b[0;31m:\u001b[0m invalid syntax\n"
     ]
    }
   ],
   "source": [
    "l3 = []\n",
    "l4 = []\n",
    "def sameSets(l3, l4)\n",
    "\n",
    "    if l3 == l4:\n",
    "        return True\n",
    "    else:\n",
    "        return False\n",
    "\n",
    "print(sameSets[1, 2, 3], [2, 3, 1])\n"
   ]
  },
  {
   "cell_type": "code",
   "execution_count": null,
   "metadata": {},
   "outputs": [],
   "source": []
  }
 ],
 "metadata": {
  "kernelspec": {
   "display_name": "Python 3",
   "language": "python",
   "name": "python3"
  },
  "language_info": {
   "codemirror_mode": {
    "name": "ipython",
    "version": 3
   },
   "file_extension": ".py",
   "mimetype": "text/x-python",
   "name": "python",
   "nbconvert_exporter": "python",
   "pygments_lexer": "ipython3",
   "version": "3.7.3"
  }
 },
 "nbformat": 4,
 "nbformat_minor": 2
}
