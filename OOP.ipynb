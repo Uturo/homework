{
 "cells": [
  {
   "cell_type": "markdown",
   "metadata": {},
   "source": [
    "# Practice Problems\n",
    "\n",
    "#### トピック: オブジェクト指向プログラミング(クラスとインスタンス)\n",
    "\n",
    "### Problem 1\n",
    "\n",
    "クラス **Student** を定義してください. **Student** クラスの持つ属性は以下の通りです.  \n",
    "```\n",
    "ID(ID): \n",
    "name(名前): \n",
    "score(点数): \n",
    "```\n",
    "\n",
    "クラスの定義が完了したら, そのクラスを用いて以下の5つのインスタンスを作成してください.  \n",
    "```\n",
    "s1: 1 - \"A\" - 83  \n",
    "s2: 2 - \"B\" - 80 \n",
    "s3: 3 - \"C\" - 93  \n",
    "s4: 4 - \"D\" - 79  \n",
    "s5: 5 - \"E\" - 87  \n",
    "```"
   ]
  },
  {
   "cell_type": "code",
   "execution_count": 7,
   "metadata": {},
   "outputs": [
    {
     "name": "stdout",
     "output_type": "stream",
     "text": [
      "93\n",
      "C \n"
     ]
    }
   ],
   "source": [
    "class Student:\n",
    "    \n",
    "    def __init__(self, ID, name, score):\n",
    "        self.ID = ID\n",
    "        self.name = name\n",
    "        self.score = score\n",
    "\n",
    "s1 = Student(1, \"A \", 83)\n",
    "s2 = Student(2, \"B \", 80)\n",
    "s3 = Student(3, \"C \", 93)\n",
    "s4 = Student(4, \"D \", 79)\n",
    "s5 = Student(5, \"E \", 87)\n",
    "\n",
    "# print(\"Student1(score)\", Student.score)\n",
    "print(s3.score)\n",
    "print(s3.name)"
   ]
  },
  {
   "cell_type": "markdown",
   "metadata": {},
   "source": [
    "### Problem 2\n",
    "\n",
    "生徒のテストの点数を記録し, 基本的な統計を取る **AutoGrader** クラスを定義してください. **AutoGrader** クラスの持つ属性は以下の通りです.  \n",
    "```\n",
    "name(プログラムの名称):  \n",
    "scores(各生徒の点数を格納したリスト):  \n",
    "calcAverage(平均を計算する関数):  \n",
    "calcMax(最高点を計算する関数):\n",
    "calcMin(最低点を計算する関数):\n",
    "```\n",
    "クラスの定義が完了したら, そのクラスを用いて以下のインスタンスを作成し, calcAverage/calcMax/calcMinを実行してください.  \n",
    "ただし, 生徒の情報は *Problem1* で作成したものを使うとします.  "
   ]
  },
  {
   "cell_type": "code",
   "execution_count": 9,
   "metadata": {},
   "outputs": [
    {
     "name": "stdout",
     "output_type": "stream",
     "text": [
      "84.4\n",
      "93\n",
      "79\n"
     ]
    }
   ],
   "source": [
    "class AutoGrader:\n",
    "    \n",
    "    def __init__(self, name, scores):\n",
    "        self.name = name\n",
    "        self.scores = scores\n",
    "    \n",
    "    def calcAverage(self):\n",
    "        return (sum(self.scores)/ len(self.scores))\n",
    "    \n",
    "    def calcMax(self):\n",
    "        return (max(self.scores))\n",
    "    \n",
    "    def calcMin(self):\n",
    "        return (min(self.scores))\n",
    "    \n",
    "ag1 = AutoGrader(\"ag1\", [s1.score, s2.score, s3.score, s4.score, s5.score])\n",
    "\n",
    "print(ag1.calcAverage()) \n",
    "print(ag1.calcMax())\n",
    "print(ag1.calcMin())"
   ]
  },
  {
   "cell_type": "markdown",
   "metadata": {},
   "source": [
    "### Problem 3\n",
    "\n",
    "*Problem1* と *Problem2* で作成したクラスを改変して, 複数科目のテストの統計情報を計算するクラス **StudentNew** と **AutoGraderNew** を定義してください.  \n",
    "実装方法は自由としますが, **StudentNew** クラスのインスタンスは以下のように初期化するものとします.  \n",
    "```\n",
    "s1: 1 - \"A\" - [83, 79, 95]  \n",
    "s2: 2 - \"B\" - [80, 78, 89] \n",
    "s3: 3 - \"C\" - [93, 68, 98] \n",
    "s4: 4 - \"D\" - [79, 90, 86]  \n",
    "s5: 5 - \"E\" - [87, 80, 81] \n",
    "```"
   ]
  },
  {
   "cell_type": "code",
   "execution_count": 22,
   "metadata": {},
   "outputs": [
    {
     "name": "stdout",
     "output_type": "stream",
     "text": [
      "[93, 68, 98]\n",
      "C \n"
     ]
    },
    {
     "ename": "NameError",
     "evalue": "name 'self' is not defined",
     "output_type": "error",
     "traceback": [
      "\u001b[0;31m---------------------------------------------------------------------------\u001b[0m",
      "\u001b[0;31mNameError\u001b[0m                                 Traceback (most recent call last)",
      "\u001b[0;32m<ipython-input-22-051f02fc6d0e>\u001b[0m in \u001b[0;36m<module>\u001b[0;34m\u001b[0m\n\u001b[1;32m     15\u001b[0m \u001b[0mprint\u001b[0m\u001b[0;34m(\u001b[0m\u001b[0ms3\u001b[0m\u001b[0;34m.\u001b[0m\u001b[0mscore\u001b[0m\u001b[0;34m)\u001b[0m\u001b[0;34m\u001b[0m\u001b[0;34m\u001b[0m\u001b[0m\n\u001b[1;32m     16\u001b[0m \u001b[0mprint\u001b[0m\u001b[0;34m(\u001b[0m\u001b[0ms3\u001b[0m\u001b[0;34m.\u001b[0m\u001b[0mname\u001b[0m\u001b[0;34m)\u001b[0m\u001b[0;34m\u001b[0m\u001b[0;34m\u001b[0m\u001b[0m\n\u001b[0;32m---> 17\u001b[0;31m \u001b[0mprint\u001b[0m\u001b[0;34m(\u001b[0m\u001b[0msum\u001b[0m\u001b[0;34m(\u001b[0m\u001b[0mself\u001b[0m\u001b[0;34m.\u001b[0m\u001b[0mscore\u001b[0m\u001b[0;34m)\u001b[0m\u001b[0;34m)\u001b[0m\u001b[0;34m\u001b[0m\u001b[0;34m\u001b[0m\u001b[0m\n\u001b[0m\u001b[1;32m     18\u001b[0m \u001b[0;32mclass\u001b[0m \u001b[0mAutoGrader\u001b[0m\u001b[0;34m:\u001b[0m\u001b[0;34m\u001b[0m\u001b[0;34m\u001b[0m\u001b[0m\n\u001b[1;32m     19\u001b[0m \u001b[0;34m\u001b[0m\u001b[0m\n",
      "\u001b[0;31mNameError\u001b[0m: name 'self' is not defined"
     ]
    }
   ],
   "source": [
    "class StudentNew:\n",
    "    \n",
    "    def __init__(self, ID, name, score):\n",
    "        self.ID = ID\n",
    "        self.name = name\n",
    "        self.score = score\n",
    "\n",
    "s1 = Student(1, \"A \", [83, 79, 95])\n",
    "s2 = Student(2, \"B \", [80, 78, 89])\n",
    "s3 = Student(3, \"C \", [93, 68, 98])\n",
    "s4 = Student(4, \"D \", [79, 90, 86])\n",
    "s5 = Student(5, \"E \", [87, 80, 81])\n",
    "\n",
    "# print(\"Student1(score)\", Student.score)\n",
    "print(s3.score)\n",
    "print(s3.name)\n",
    "print(sum(self.score))\n",
    "class AutoGrader:\n",
    "    \n",
    "    def __init__(self, name, scores):\n",
    "        self.name = name\n",
    "        self.scores = score\n",
    "    \n",
    "    def calcAverage(self):\n",
    "        return (sum(len(self.scores))/ len(self.scores))\n",
    "    \n",
    "    def calcMax(self):\n",
    "        return (max(self.scores))\n",
    "    \n",
    "    def calcMin(self):\n",
    "        return (min(self.scores))\n",
    "    \n",
    "ag1 = AutoGrader(\"ag1\", [s1.score, s2.score, s3.score, s4.score, s5.score])\n",
    "\n",
    "print(ag1.calcAverage()) \n",
    "print(ag1.calcMax())\n",
    "print(ag1.calcMin())"
   ]
  },
  {
   "cell_type": "code",
   "execution_count": 7,
   "metadata": {},
   "outputs": [
    {
     "name": "stdout",
     "output_type": "stream",
     "text": [
      "93\n",
      "C \n"
     ]
    },
    {
     "ename": "TypeError",
     "evalue": "__init__() missing 2 required positional arguments: 'score2' and 'score3'",
     "output_type": "error",
     "traceback": [
      "\u001b[0;31m---------------------------------------------------------------------------\u001b[0m",
      "\u001b[0;31mTypeError\u001b[0m                                 Traceback (most recent call last)",
      "\u001b[0;32m<ipython-input-7-43c02de01d0a>\u001b[0m in \u001b[0;36m<module>\u001b[0;34m\u001b[0m\n\u001b[1;32m     34\u001b[0m         \u001b[0;32mreturn\u001b[0m \u001b[0;34m(\u001b[0m\u001b[0msum\u001b[0m\u001b[0;34m(\u001b[0m\u001b[0mself\u001b[0m\u001b[0;34m.\u001b[0m\u001b[0mscore3\u001b[0m\u001b[0;34m)\u001b[0m\u001b[0;34m)\u001b[0m\u001b[0;34m/\u001b[0m \u001b[0;34m(\u001b[0m\u001b[0mlen\u001b[0m\u001b[0;34m(\u001b[0m\u001b[0mself\u001b[0m\u001b[0;34m.\u001b[0m\u001b[0mscore3\u001b[0m\u001b[0;34m)\u001b[0m\u001b[0;34m)\u001b[0m\u001b[0;34m\u001b[0m\u001b[0;34m\u001b[0m\u001b[0m\n\u001b[1;32m     35\u001b[0m \u001b[0;34m\u001b[0m\u001b[0m\n\u001b[0;32m---> 36\u001b[0;31m \u001b[0magn1\u001b[0m\u001b[0;34m=\u001b[0m \u001b[0mAutoGraderNew\u001b[0m\u001b[0;34m(\u001b[0m\u001b[0;34m\"ag1\"\u001b[0m\u001b[0;34m,\u001b[0m \u001b[0;34m[\u001b[0m\u001b[0ms1\u001b[0m\u001b[0;34m.\u001b[0m\u001b[0mscore1\u001b[0m\u001b[0;34m,\u001b[0m \u001b[0ms2\u001b[0m\u001b[0;34m.\u001b[0m\u001b[0mscore1\u001b[0m\u001b[0;34m,\u001b[0m \u001b[0ms3\u001b[0m\u001b[0;34m.\u001b[0m\u001b[0mscore1\u001b[0m\u001b[0;34m,\u001b[0m \u001b[0ms4\u001b[0m\u001b[0;34m.\u001b[0m\u001b[0mscore1\u001b[0m\u001b[0;34m,\u001b[0m \u001b[0ms5\u001b[0m\u001b[0;34m.\u001b[0m\u001b[0mscore1\u001b[0m\u001b[0;34m]\u001b[0m\u001b[0;34m)\u001b[0m\u001b[0;34m\u001b[0m\u001b[0;34m\u001b[0m\u001b[0m\n\u001b[0m\u001b[1;32m     37\u001b[0m \u001b[0magn2\u001b[0m\u001b[0;34m=\u001b[0m \u001b[0mAutoGraderNew2\u001b[0m\u001b[0;34m(\u001b[0m\u001b[0;34m\"ag2\"\u001b[0m\u001b[0;34m,\u001b[0m \u001b[0;34m[\u001b[0m\u001b[0ms1\u001b[0m\u001b[0;34m.\u001b[0m\u001b[0mscore2\u001b[0m\u001b[0;34m,\u001b[0m \u001b[0ms2\u001b[0m\u001b[0;34m.\u001b[0m\u001b[0mscore2\u001b[0m\u001b[0;34m,\u001b[0m \u001b[0ms3\u001b[0m\u001b[0;34m.\u001b[0m\u001b[0mscore2\u001b[0m\u001b[0;34m,\u001b[0m \u001b[0ms4\u001b[0m\u001b[0;34m.\u001b[0m\u001b[0mscore2\u001b[0m\u001b[0;34m,\u001b[0m \u001b[0ms5\u001b[0m\u001b[0;34m.\u001b[0m\u001b[0mscore2\u001b[0m\u001b[0;34m]\u001b[0m\u001b[0;34m)\u001b[0m\u001b[0;34m\u001b[0m\u001b[0;34m\u001b[0m\u001b[0m\n\u001b[1;32m     38\u001b[0m \u001b[0magn3\u001b[0m\u001b[0;34m=\u001b[0m \u001b[0mAutoGraderNew3\u001b[0m\u001b[0;34m(\u001b[0m\u001b[0;34m\"ag3\"\u001b[0m\u001b[0;34m,\u001b[0m \u001b[0;34m[\u001b[0m\u001b[0ms1\u001b[0m\u001b[0;34m.\u001b[0m\u001b[0mscore3\u001b[0m\u001b[0;34m,\u001b[0m \u001b[0ms2\u001b[0m\u001b[0;34m.\u001b[0m\u001b[0mscore3\u001b[0m\u001b[0;34m,\u001b[0m \u001b[0ms3\u001b[0m\u001b[0;34m.\u001b[0m\u001b[0mscore3\u001b[0m\u001b[0;34m,\u001b[0m \u001b[0ms4\u001b[0m\u001b[0;34m.\u001b[0m\u001b[0mscore3\u001b[0m\u001b[0;34m,\u001b[0m \u001b[0ms5\u001b[0m\u001b[0;34m.\u001b[0m\u001b[0mscore3\u001b[0m\u001b[0;34m]\u001b[0m\u001b[0;34m)\u001b[0m\u001b[0;34m\u001b[0m\u001b[0;34m\u001b[0m\u001b[0m\n",
      "\u001b[0;31mTypeError\u001b[0m: __init__() missing 2 required positional arguments: 'score2' and 'score3'"
     ]
    }
   ],
   "source": [
    "class StudentNew:\n",
    "    \n",
    "    def __init__(self, ID, name, score1, score2, score3):\n",
    "        self.ID = ID\n",
    "        self.name = name\n",
    "        self.score1 = score1\n",
    "        self.score2 = score2\n",
    "        self.score3 = score3\n",
    "\n",
    "s1 = StudentNew(1, \"A \", 83, 79, 95)\n",
    "s2 = StudentNew(2, \"B \", 80, 78, 89)\n",
    "s3 = StudentNew(3, \"C \", 93, 68, 98)\n",
    "s4 = StudentNew(4, \"D \", 79, 90, 86)\n",
    "s5 = StudentNew(5, \"E \", 87, 80, 81)\n",
    "\n",
    "print(s3.score1)\n",
    "print(s3.name)\n",
    "\n",
    "class AutoGraderNew:\n",
    "    \n",
    "    def __init__(self, name, score1, score2, score3):\n",
    "        self.name = name\n",
    "        self.score1 = score1\n",
    "        self.score2 = score2\n",
    "        self.score3 = score3\n",
    "    \n",
    "    def calcAverage1(self):\n",
    "        return (sum(self.score1))/ (len(self.score1))\n",
    "    \n",
    "    def calcAverage2(self):\n",
    "        return (sum(self.score2))/ (len(self.score2))\n",
    "    \n",
    "    def calcAverage3(self):\n",
    "        return (sum(self.score3))/ (len(self.score3))\n",
    "    \n",
    "agn1= AutoGraderNew(\"ag1\", [s1.score1, s2.score1, s3.score1, s4.score1, s5.score1])\n",
    "agn2= AutoGraderNew2(\"ag2\", [s1.score2, s2.score2, s3.score2, s4.score2, s5.score2])\n",
    "agn3= AutoGraderNew3(\"ag3\", [s1.score3, s2.score3, s3.score3, s4.score3, s5.score3])\n",
    "\n",
    "print(agn1.calcAverage1()) \n",
    "print(agn2.calcAverage2())\n",
    "print(agn3.calcAverage3())\n"
   ]
  },
  {
   "cell_type": "code",
   "execution_count": 10,
   "metadata": {},
   "outputs": [
    {
     "name": "stdout",
     "output_type": "stream",
     "text": [
      "93\n",
      "C \n"
     ]
    },
    {
     "ename": "NameError",
     "evalue": "name 'calcAverage1' is not defined",
     "output_type": "error",
     "traceback": [
      "\u001b[0;31m---------------------------------------------------------------------------\u001b[0m",
      "\u001b[0;31mNameError\u001b[0m                                 Traceback (most recent call last)",
      "\u001b[0;32m<ipython-input-10-2fe66c6c16c7>\u001b[0m in \u001b[0;36m<module>\u001b[0;34m\u001b[0m\n\u001b[1;32m     34\u001b[0m         \u001b[0;32mreturn\u001b[0m \u001b[0;34m(\u001b[0m\u001b[0msum\u001b[0m\u001b[0;34m(\u001b[0m\u001b[0mself\u001b[0m\u001b[0;34m.\u001b[0m\u001b[0mscore3\u001b[0m\u001b[0;34m)\u001b[0m\u001b[0;34m)\u001b[0m\u001b[0;34m/\u001b[0m \u001b[0;34m(\u001b[0m\u001b[0mlen\u001b[0m\u001b[0;34m(\u001b[0m\u001b[0mself\u001b[0m\u001b[0;34m.\u001b[0m\u001b[0mscore3\u001b[0m\u001b[0;34m)\u001b[0m\u001b[0;34m)\u001b[0m\u001b[0;34m\u001b[0m\u001b[0;34m\u001b[0m\u001b[0m\n\u001b[1;32m     35\u001b[0m \u001b[0;34m\u001b[0m\u001b[0m\n\u001b[0;32m---> 36\u001b[0;31m \u001b[0magn1\u001b[0m\u001b[0;34m=\u001b[0m \u001b[0mcalcAverage1\u001b[0m\u001b[0;34m(\u001b[0m\u001b[0mself\u001b[0m\u001b[0;34m)\u001b[0m\u001b[0;34m\u001b[0m\u001b[0;34m\u001b[0m\u001b[0m\n\u001b[0m\u001b[1;32m     37\u001b[0m \u001b[0magn2\u001b[0m\u001b[0;34m=\u001b[0m \u001b[0mAutoGraderNew2\u001b[0m\u001b[0;34m(\u001b[0m\u001b[0;34m\"ag2\"\u001b[0m\u001b[0;34m,\u001b[0m \u001b[0;34m[\u001b[0m\u001b[0ms1\u001b[0m\u001b[0;34m.\u001b[0m\u001b[0mscore2\u001b[0m\u001b[0;34m,\u001b[0m \u001b[0ms2\u001b[0m\u001b[0;34m.\u001b[0m\u001b[0mscore2\u001b[0m\u001b[0;34m,\u001b[0m \u001b[0ms3\u001b[0m\u001b[0;34m.\u001b[0m\u001b[0mscore2\u001b[0m\u001b[0;34m,\u001b[0m \u001b[0ms4\u001b[0m\u001b[0;34m.\u001b[0m\u001b[0mscore2\u001b[0m\u001b[0;34m,\u001b[0m \u001b[0ms5\u001b[0m\u001b[0;34m.\u001b[0m\u001b[0mscore2\u001b[0m\u001b[0;34m]\u001b[0m\u001b[0;34m)\u001b[0m\u001b[0;34m\u001b[0m\u001b[0;34m\u001b[0m\u001b[0m\n\u001b[1;32m     38\u001b[0m \u001b[0magn3\u001b[0m\u001b[0;34m=\u001b[0m \u001b[0mAutoGraderNew3\u001b[0m\u001b[0;34m(\u001b[0m\u001b[0;34m\"ag3\"\u001b[0m\u001b[0;34m,\u001b[0m \u001b[0;34m[\u001b[0m\u001b[0ms1\u001b[0m\u001b[0;34m.\u001b[0m\u001b[0mscore3\u001b[0m\u001b[0;34m,\u001b[0m \u001b[0ms2\u001b[0m\u001b[0;34m.\u001b[0m\u001b[0mscore3\u001b[0m\u001b[0;34m,\u001b[0m \u001b[0ms3\u001b[0m\u001b[0;34m.\u001b[0m\u001b[0mscore3\u001b[0m\u001b[0;34m,\u001b[0m \u001b[0ms4\u001b[0m\u001b[0;34m.\u001b[0m\u001b[0mscore3\u001b[0m\u001b[0;34m,\u001b[0m \u001b[0ms5\u001b[0m\u001b[0;34m.\u001b[0m\u001b[0mscore3\u001b[0m\u001b[0;34m]\u001b[0m\u001b[0;34m)\u001b[0m\u001b[0;34m\u001b[0m\u001b[0;34m\u001b[0m\u001b[0m\n",
      "\u001b[0;31mNameError\u001b[0m: name 'calcAverage1' is not defined"
     ]
    }
   ],
   "source": [
    "class StudentNew:\n",
    "    \n",
    "    def __init__(self, ID, name, score1, score2, score3):\n",
    "        self.ID = ID\n",
    "        self.name = name\n",
    "        self.score1 = score1\n",
    "        self.score2 = score2\n",
    "        self.score3 = score3\n",
    "\n",
    "s1 = StudentNew(1, \"A \", 83, 79, 95)\n",
    "s2 = StudentNew(2, \"B \", 80, 78, 89)\n",
    "s3 = StudentNew(3, \"C \", 93, 68, 98)\n",
    "s4 = StudentNew(4, \"D \", 79, 90, 86)\n",
    "s5 = StudentNew(5, \"E \", 87, 80, 81)\n",
    "\n",
    "print(s3.score1)\n",
    "print(s3.name)\n",
    "\n",
    "class AutoGraderNew:\n",
    "    \n",
    "    def __init__(self, name, score1, score2, score3):\n",
    "        self.name = name\n",
    "        self.score1 = score1\n",
    "        self.score2 = score2\n",
    "        self.score3 = score3\n",
    "    \n",
    "    def calcAverage1(self):\n",
    "        return (s1.score1 + s1.score2 + s1.score3)/3\n",
    "    \n",
    "    def calcAverage2(self):\n",
    "        return (sum(self.score2))/ (len(self.score2))\n",
    "    \n",
    "    def calcAverage3(self):\n",
    "        return (sum(self.score3))/ (len(self.score3))\n",
    "    \n",
    "agn1= calcAverage1(self)\n",
    "agn2= AutoGraderNew2(\"ag2\", [s1.score2, s2.score2, s3.score2, s4.score2, s5.score2])\n",
    "agn3= AutoGraderNew3(\"ag3\", [s1.score3, s2.score3, s3.score3, s4.score3, s5.score3])\n",
    "\n",
    "print(agn1) \n",
    "print(agn2.calcAverage2())\n",
    "print(agn3.calcAverage3())\n"
   ]
  },
  {
   "cell_type": "markdown",
   "metadata": {},
   "source": []
  }
 ],
 "metadata": {
  "kernelspec": {
   "display_name": "Python 3",
   "language": "python",
   "name": "python3"
  },
  "language_info": {
   "codemirror_mode": {
    "name": "ipython",
    "version": 3
   },
   "file_extension": ".py",
   "mimetype": "text/x-python",
   "name": "python",
   "nbconvert_exporter": "python",
   "pygments_lexer": "ipython3",
   "version": "3.7.3"
  }
 },
 "nbformat": 4,
 "nbformat_minor": 2
}
