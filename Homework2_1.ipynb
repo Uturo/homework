{
 "cells": [
  {
   "cell_type": "markdown",
   "metadata": {},
   "source": [
    "# Homework 2 *(vol.1)*\n",
    "\n",
    "#### トピック: 条件文, ループ, リスト, 文字列\n",
    "\n",
    "### Problem 1\n",
    "\n",
    "以下のコードを穴埋めして, 与えられた数が奇数かどうかを判定する関数 **isOdd()** を完成させてください.  \n",
    "*`#`*を外すことによって, コードが有効になります.\n",
    "\n",
    "e.g.)  \n",
    "Input: 5 -> Output: True  \n",
    "Input: 6 -> Output: False"
   ]
  },
  {
   "cell_type": "code",
   "execution_count": 1,
   "metadata": {},
   "outputs": [
    {
     "name": "stdout",
     "output_type": "stream",
     "text": [
      "True\n",
      "False\n"
     ]
    }
   ],
   "source": [
    "def isOdd(n):\n",
    "    if n%2 == 1:   # nを2で割った時にあまりが出る場合\n",
    "        return True\n",
    "    else:         # nを2で割った時にあまりが出ない場合\n",
    "        return False\n",
    "\n",
    "print(isOdd(5))\n",
    "print(isOdd(6))"
   ]
  },
  {
   "cell_type": "code",
   "execution_count": 5,
   "metadata": {},
   "outputs": [
    {
     "name": "stdout",
     "output_type": "stream",
     "text": [
      "True\n",
      "False\n"
     ]
    }
   ],
   "source": [
    "isOdd(n):\n",
    "    if n%2 == 1:\n",
    "        return True\n",
    "    else:\n",
    "        return False\n",
    "\n",
    "print(isOdd())\n",
    "print(isOdd())"
   ]
  },
  {
   "cell_type": "markdown",
   "metadata": {},
   "source": [
    "### Problem 2\n",
    "\n",
    "以下のコードを穴埋めして, 与えられた数が偶数かどうかを判定する関数 **isEven()** を完成させてください.  \n",
    "ただし, 条件文を用いてはならず, Problem1で定義した関数 **isOdd()** は使用できるものとします.  \n",
    "*`#`*を外すことによって, コードが有効になります.\n",
    "\n",
    "e.g.)  \n",
    "Input: 5 -> Output: False  \n",
    "Input: 6 -> Output: True"
   ]
  },
  {
   "cell_type": "code",
   "execution_count": null,
   "metadata": {},
   "outputs": [],
   "source": [
    "def isEven(n):\n",
    "    return  n % 2 == 0   # isOdd()を用いて一行で書くことができる\n",
    "\n",
    "print(isEven(5))\n",
    "print(isEven(6))"
   ]
  },
  {
   "cell_type": "code",
   "execution_count": 2,
   "metadata": {},
   "outputs": [
    {
     "ename": "NameError",
     "evalue": "name 'isOdd' is not defined",
     "output_type": "error",
     "traceback": [
      "\u001b[0;31m---------------------------------------------------------------------------\u001b[0m",
      "\u001b[0;31mNameError\u001b[0m                                 Traceback (most recent call last)",
      "\u001b[0;32m<ipython-input-2-e27678f10a93>\u001b[0m in \u001b[0;36m<module>\u001b[0;34m\u001b[0m\n\u001b[1;32m      2\u001b[0m     \u001b[0;32mreturn\u001b[0m \u001b[0;32mnot\u001b[0m \u001b[0misOdd\u001b[0m\u001b[0;34m(\u001b[0m\u001b[0mn\u001b[0m\u001b[0;34m)\u001b[0m\u001b[0;34m\u001b[0m\u001b[0;34m\u001b[0m\u001b[0m\n\u001b[1;32m      3\u001b[0m \u001b[0;34m\u001b[0m\u001b[0m\n\u001b[0;32m----> 4\u001b[0;31m \u001b[0mprint\u001b[0m\u001b[0;34m(\u001b[0m\u001b[0misEven\u001b[0m\u001b[0;34m(\u001b[0m\u001b[0;36m5\u001b[0m\u001b[0;34m)\u001b[0m\u001b[0;34m)\u001b[0m\u001b[0;34m\u001b[0m\u001b[0;34m\u001b[0m\u001b[0m\n\u001b[0m\u001b[1;32m      5\u001b[0m \u001b[0mprint\u001b[0m\u001b[0;34m(\u001b[0m\u001b[0misEven\u001b[0m\u001b[0;34m(\u001b[0m\u001b[0;36m6\u001b[0m\u001b[0;34m)\u001b[0m\u001b[0;34m)\u001b[0m\u001b[0;34m\u001b[0m\u001b[0;34m\u001b[0m\u001b[0m\n",
      "\u001b[0;32m<ipython-input-2-e27678f10a93>\u001b[0m in \u001b[0;36misEven\u001b[0;34m(n)\u001b[0m\n\u001b[1;32m      1\u001b[0m \u001b[0;32mdef\u001b[0m \u001b[0misEven\u001b[0m\u001b[0;34m(\u001b[0m\u001b[0mn\u001b[0m\u001b[0;34m)\u001b[0m\u001b[0;34m:\u001b[0m\u001b[0;34m\u001b[0m\u001b[0;34m\u001b[0m\u001b[0m\n\u001b[0;32m----> 2\u001b[0;31m     \u001b[0;32mreturn\u001b[0m \u001b[0;32mnot\u001b[0m \u001b[0misOdd\u001b[0m\u001b[0;34m(\u001b[0m\u001b[0mn\u001b[0m\u001b[0;34m)\u001b[0m\u001b[0;34m\u001b[0m\u001b[0;34m\u001b[0m\u001b[0m\n\u001b[0m\u001b[1;32m      3\u001b[0m \u001b[0;34m\u001b[0m\u001b[0m\n\u001b[1;32m      4\u001b[0m \u001b[0mprint\u001b[0m\u001b[0;34m(\u001b[0m\u001b[0misEven\u001b[0m\u001b[0;34m(\u001b[0m\u001b[0;36m5\u001b[0m\u001b[0;34m)\u001b[0m\u001b[0;34m)\u001b[0m\u001b[0;34m\u001b[0m\u001b[0;34m\u001b[0m\u001b[0m\n\u001b[1;32m      5\u001b[0m \u001b[0mprint\u001b[0m\u001b[0;34m(\u001b[0m\u001b[0misEven\u001b[0m\u001b[0;34m(\u001b[0m\u001b[0;36m6\u001b[0m\u001b[0;34m)\u001b[0m\u001b[0;34m)\u001b[0m\u001b[0;34m\u001b[0m\u001b[0;34m\u001b[0m\u001b[0m\n",
      "\u001b[0;31mNameError\u001b[0m: name 'isOdd' is not defined"
     ]
    }
   ],
   "source": [
    "def isEven(n):\n",
    "    return not isOdd(n)\n",
    "\n",
    "print(isEven(5))\n",
    "print(isEven(6))"
   ]
  },
  {
   "cell_type": "code",
   "execution_count": 6,
   "metadata": {},
   "outputs": [
    {
     "name": "stdout",
     "output_type": "stream",
     "text": [
      "False\n",
      "True\n"
     ]
    }
   ],
   "source": [
    "def isEven(n):\n",
    "    if n % 2 ==0:\n",
    "        return True\n",
    "    else:\n",
    "        return False\n",
    "    \n",
    "print(isEven(5))\n",
    "print(isEven(6))"
   ]
  },
  {
   "cell_type": "markdown",
   "metadata": {},
   "source": [
    "### Problem 3\n",
    "\n",
    "以下のコードを穴埋めして, 与えられた文字列の長さ(スペースは**含まない**)を返す関数 **findLength()** を完成させてください.  \n",
    "ただし, Pythonの組み込みメソッドである **len()** を使用してはいけません.  \n",
    "*`#`*を外すことによって, コードが有効になります.  \n",
    "\n",
    "e.g.)  \n",
    "Input: \"Hello\"       -> Output: 5  \n",
    "Input: \"Hello World\" -> Output: 10"
   ]
  },
  {
   "cell_type": "code",
   "execution_count": 7,
   "metadata": {},
   "outputs": [
    {
     "name": "stdout",
     "output_type": "stream",
     "text": [
      "5\n",
      "10\n"
     ]
    }
   ],
   "source": [
    "def findLength(s):\n",
    "    count = 0          # 文字列の長さを格納する変数を初期化する\n",
    "    for i in s:\n",
    "        if i != \" \":     # 文字がスペースでない場合のみ, countをアップデートする\n",
    "            count += 1\n",
    "        else:          # 文字がスペースである場合, なにもしない\n",
    "            pass\n",
    "    return count\n",
    "\n",
    "print(findLength(\"Hello\"))\n",
    "print(findLength(\"Hello World\"))"
   ]
  },
  {
   "cell_type": "code",
   "execution_count": 12,
   "metadata": {},
   "outputs": [
    {
     "name": "stdout",
     "output_type": "stream",
     "text": [
      "5\n",
      "11\n"
     ]
    }
   ],
   "source": [
    "def findLength(s):\n",
    "    count = 0\n",
    "    for i in s:\n",
    "        if i != \" \":\n",
    "            count += 1\n",
    "    return count \n",
    "\n",
    "print(findLength(\"Hello\"))\n",
    "print(findLength(\"Hello Shingo\"))"
   ]
  },
  {
   "cell_type": "markdown",
   "metadata": {},
   "source": [
    "### Problem 4\n",
    "\n",
    "以下のコードを穴埋めして, 与えられた文字列の長さ(スペースは**含まない**)が奇数かどうかを判定する関数 **isOddLength()** を完成させてください.  \n",
    "ただし, Pythonの組み込みメソッドである **len()** を使用してはならず, Problem1で定義した関数 **isOdd()** は使用できるものとします.  \n",
    "*`#`*を外すことによって, コードが有効になります.  \n",
    "\n",
    "e.g.)  \n",
    "Input: \"Hello\"       -> Output: True  \n",
    "Input: \"Hello World\" -> Output: False"
   ]
  },
  {
   "cell_type": "code",
   "execution_count": 11,
   "metadata": {},
   "outputs": [
    {
     "name": "stdout",
     "output_type": "stream",
     "text": [
      "5\n",
      "10\n"
     ]
    }
   ],
   "source": [
    "def isOddLength(s):\n",
    "    count = 0         # 文字列の長さを格納する変数を初期化する\n",
    "    for i in s:\n",
    "        if i != \" \":     # 文字がスペースでない場合のみ, countをアップデートする\n",
    "             count += 1\n",
    "        else:          # 文字がスペースである場合, なにもしない\n",
    "            pass\n",
    "    return count\n",
    "\n",
    "print(isOddLength(\"Hello\"))\n",
    "print(isOddLength(\"Hello World\"))"
   ]
  },
  {
   "cell_type": "markdown",
   "metadata": {},
   "source": [
    "Q: 上記のコードの問題点は何でしょうか？"
   ]
  },
  {
   "cell_type": "markdown",
   "metadata": {},
   "source": [
    "A: elseがいらない"
   ]
  },
  {
   "cell_type": "markdown",
   "metadata": {},
   "source": [
    "### Problem 5\n",
    "\n",
    "以下のコードを穴埋めして, 与えられた文字列の長さ(スペースは**含まない**)が等しいかを判定する関数 **compareLength()** を完成させてください.  \n",
    "ただし, Pythonの組み込みメソッドである **len()** を使用してはいけません.  \n",
    "*`#`*を外すことによって, コードが有効になります.  \n",
    "\n",
    "e.g.)  \n",
    "Input: \"dog\", \"cat\" -> Output: True  \n",
    "Input: \"serendipity\", \"Descartes\" -> Output: False"
   ]
  },
  {
   "cell_type": "code",
   "execution_count": 9,
   "metadata": {},
   "outputs": [
    {
     "name": "stdout",
     "output_type": "stream",
     "text": [
      "True\n",
      "False\n"
     ]
    }
   ],
   "source": [
    "def compareLength(s1, s2):\n",
    "    count_s1 = 0\n",
    "    count_s2 = 0\n",
    "    \n",
    "    for c in s1:\n",
    "        if c != \" \":     \n",
    "             count_s1 += 1\n",
    "    for c in s2:\n",
    "        if c != \" \":     \n",
    "             count_s2 += 1  \n",
    "    \n",
    "    if count_s1 == count_s2:\n",
    "        return True\n",
    "    else:\n",
    "        return False\n",
    "                \n",
    "print(compareLength(\"dog\", \"cat\"))\n",
    "print(compareLength(\"serendipity\", \"Descaretes\"))"
   ]
  },
  {
   "cell_type": "code",
   "execution_count": 13,
   "metadata": {},
   "outputs": [
    {
     "name": "stdout",
     "output_type": "stream",
     "text": [
      "True\n",
      "False\n"
     ]
    }
   ],
   "source": [
    "def compareLength(s1, s2):\n",
    "    count_s1 = 0\n",
    "    count_s2 = 0\n",
    "    \n",
    "    for c in s1:\n",
    "        if c != \" \":\n",
    "            count_s1 += 1\n",
    "    for c in s2:\n",
    "        if c!= \" \":\n",
    "            count_s2 += 1\n",
    "            \n",
    "    if count_s1 == count_s2:\n",
    "        return True\n",
    "    else:\n",
    "        return False\n",
    "    \n",
    "print(compareLength(\"dog\", \"cat\"))\n",
    "print(compareLength(\"serendipity\", \"Descaretes\"))"
   ]
  },
  {
   "cell_type": "markdown",
   "metadata": {},
   "source": [
    "### Problem 6\n",
    "\n",
    "以下のコードを穴埋めして, 与えられた文字列(スペースを**含む**)が等しいかを判定する関数 **compareStrings()** を完成させてください.  \n",
    "ただし, Pythonの組み込みメソッドである **len()** を使用してはならず, Problem5で定義した関数 **compareLength()** は使用できるものとします.  \n",
    "*`#`*を外すことによって, コードが有効になります.  \n",
    "\n",
    "e.g.)  \n",
    "Input: \"dog\", \"cat\" -> Output: False  \n",
    "Input: \"Coffee\", \"Coffee\" -> Output: True"
   ]
  },
  {
   "cell_type": "code",
   "execution_count": 15,
   "metadata": {},
   "outputs": [
    {
     "name": "stdout",
     "output_type": "stream",
     "text": [
      "False\n",
      "True\n"
     ]
    }
   ],
   "source": [
    "def compareStrings(s1, s2):\n",
    "    if compareLength(s1, s2) == False:                \n",
    "        return False\n",
    "    else:                      \n",
    "        for i in range(len(s1)):\n",
    "            if s1[i] != s2[i]:\n",
    "                return False        \n",
    "        return True\n",
    "\n",
    "print(compareStrings(\"dog\", \"cat\"))\n",
    "print(compareStrings(\"Coffee\", \"Coffee\"))"
   ]
  },
  {
   "cell_type": "code",
   "execution_count": null,
   "metadata": {},
   "outputs": [],
   "source": [
    "def cmpareStrings(s1, s2):\n",
    "    if copmareLength(s1,s2) == False:\n",
    "        return False\n",
    "    else:\n",
    "        for i in range(len(s1)):\n",
    "            if s1[i] != s2[i]:\n",
    "                return False\n",
    "            return True"
   ]
  },
  {
   "cell_type": "code",
   "execution_count": 14,
   "metadata": {},
   "outputs": [
    {
     "ename": "SyntaxError",
     "evalue": "invalid character in identifier (<ipython-input-14-ff7cb28dcf3e>, line 8)",
     "output_type": "error",
     "traceback": [
      "\u001b[0;36m  File \u001b[0;32m\"<ipython-input-14-ff7cb28dcf3e>\"\u001b[0;36m, line \u001b[0;32m8\u001b[0m\n\u001b[0;31m    return True　　　　　　# Falseが返されなかった場合は, Trueを返す\u001b[0m\n\u001b[0m               　　　　　^\u001b[0m\n\u001b[0;31mSyntaxError\u001b[0m\u001b[0;31m:\u001b[0m invalid character in identifier\n"
     ]
    }
   ],
   "source": [
    "def compareStrings(s1, s2):\n",
    "    if compareLength(s1, s2) == False:                 # compareLength()を用いてFalseが返された場合は, Falseを返す\n",
    "        return False\n",
    "    else:                       # compareLength()を用いてTrueが返された場合は, 一文字ずつ比べていく\n",
    "        for i in range(len(s1)):\n",
    "            if s1[i] != s2[i]:\n",
    "                return False        # 同じインデックスの文字が異なる場合は, Falseを返す\n",
    "        return True　　　　　　# Falseが返されなかった場合は, Trueを返す　 \n",
    "\n",
    "print(compareStrings(\"dog\", \"cat\"))\n",
    "print(compareStrings(\"Coffee\", \"Coffee\"))"
   ]
  },
  {
   "cell_type": "markdown",
   "metadata": {},
   "source": [
    "### Problem 7\n",
    "\n",
    "forループを用いて, *1*から*N*までの整数をそれぞれ要素としたリストを返す関数 **countFor()** が以下のように定義されています.\n",
    "\n",
    "```\n",
    "def countFor(n):\n",
    "    l = []\n",
    "    for i in range(1, n+1):\n",
    "        l.append(i)\n",
    "    return l\n",
    "```\n",
    "\n",
    "以下のコードを穴埋めして, **countFor()** をwhileループを用いて書き直した関数 **countWhile()** を定義してください.    \n",
    "*`#`*を外すことによって, コードが有効になります.  \n",
    "\n",
    "e.g.)  \n",
    "Input: 5 -> Output: [1, 2, 3, 4, 5]  \n",
    "Input: 0 -> Output: []"
   ]
  },
  {
   "cell_type": "code",
   "execution_count": 1,
   "metadata": {},
   "outputs": [
    {
     "name": "stdout",
     "output_type": "stream",
     "text": [
      "[1, 2, 3, 4, 5]\n",
      "[]\n",
      "[1, 2, 3, 4, 5, 6, 7, 8, 9, 10]\n"
     ]
    }
   ],
   "source": [
    "def countWhile(n):\n",
    "    l = []\n",
    "    i = 1\n",
    "    while i <= n:\n",
    "        l.append(i)\n",
    "        i += 1\n",
    "    return l\n",
    "\n",
    "print(countWhile(5))\n",
    "print(countWhile(0))\n",
    "print(countWhile(10))"
   ]
  },
  {
   "cell_type": "code",
   "execution_count": 14,
   "metadata": {},
   "outputs": [
    {
     "name": "stdout",
     "output_type": "stream",
     "text": [
      "[1, 2, 3, 4, 5, 6, 7, 8, 9, 10, 11]\n"
     ]
    }
   ],
   "source": [
    "def countWhile(n):\n",
    "    l = []\n",
    "    i = 1\n",
    "    while i <= n :\n",
    "        l.append(i)\n",
    "        i += 1\n",
    "    return l\n",
    "\n",
    "print(countWhile(11))"
   ]
  },
  {
   "cell_type": "code",
   "execution_count": null,
   "metadata": {},
   "outputs": [],
   "source": [
    "def countWhile(n):\n",
    "    l = []           # 整数を格納するリストを初期化する\n",
    "    i = 0           # whileループ内でアップデートする変数を初期化する\n",
    "    while i < n:     # iがnよりも小さいまたは同値の場合のみ, while以下を実行する\n",
    "        l.append(1)        # lに整数をappendする\n",
    "        n += 1       # 変数をアップデートする\n",
    "    return i\n",
    "\n",
    "print(countWhile(5))\n",
    "print(countWhile(0))"
   ]
  },
  {
   "cell_type": "code",
   "execution_count": null,
   "metadata": {},
   "outputs": [],
   "source": []
  }
 ],
 "metadata": {
  "kernelspec": {
   "display_name": "Python 3",
   "language": "python",
   "name": "python3"
  },
  "language_info": {
   "codemirror_mode": {
    "name": "ipython",
    "version": 3
   },
   "file_extension": ".py",
   "mimetype": "text/x-python",
   "name": "python",
   "nbconvert_exporter": "python",
   "pygments_lexer": "ipython3",
   "version": "3.7.3"
  }
 },
 "nbformat": 4,
 "nbformat_minor": 2
}
