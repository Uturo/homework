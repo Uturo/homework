{
 "cells": [
  {
   "cell_type": "markdown",
   "metadata": {},
   "source": [
    "# Practice Problems\n",
    "\n",
    "*トピック: リストと文字列, コントロールフロー*\n",
    "\n",
    "### Problem 1\n",
    "\n",
    "以下のリストにループをかけて各要素をプリントしてください. ただし, 以下に示すように3通りの書き方を考えてください.  \n",
    "\n",
    "`[2, 5, 8, 1, 3, 10]`"
   ]
  },
  {
   "cell_type": "code",
   "execution_count": null,
   "metadata": {},
   "outputs": [],
   "source": [
    "# for-in型による実装\n",
    "\n",
    "# ここにコードを書いてください."
   ]
  },
  {
   "cell_type": "code",
   "execution_count": null,
   "metadata": {},
   "outputs": [],
   "source": [
    "# for-range型による実装\n",
    "\n",
    "# ここにコードを書いてください."
   ]
  },
  {
   "cell_type": "code",
   "execution_count": null,
   "metadata": {},
   "outputs": [],
   "source": [
    "# whileによる実装\n",
    "\n",
    "#ここにコードを書いてください."
   ]
  },
  {
   "cell_type": "markdown",
   "metadata": {},
   "source": [
    "### Problem 2\n",
    "\n",
    "以下のネストされたリストにループを書け、各要素をプリントしてください. ただし, プリントされる結果は *1,2,3,4...* と順番になるようにしてください.  \n",
    "\n",
    "`[[[1, 2], [3, 4]], [[5, 6]], [[7, 8], [9, 10]]]`"
   ]
  },
  {
   "cell_type": "code",
   "execution_count": null,
   "metadata": {},
   "outputs": [],
   "source": [
    "#ここにコードを書いてください."
   ]
  },
  {
   "cell_type": "markdown",
   "metadata": {},
   "source": [
    "### Problem 3\n",
    "\n",
    "与えられた2つのリストが同じ要素を含んでいるか(**順番や重複する要素の数は考慮しない**)を判別する関数を定義してください.  \n",
    "ただし, Pythonの組み込みの関数である *set()* などは用いてはいけません.  \n",
    "\n",
    "e.g.  \n",
    "Input: [1, 2, 3], [1, 2, 3] - Output: True  \n",
    "Input: [1, 2, 3], [1, 3, 4] - Output: False  \n",
    "Input: [18, 28, 5, 12], [28, 5, 12, 18] - Output: True  \n",
    "Input: [18, 28, 5, 12], [28, 5, 12, 18, 5, 28] - Output: True  \n",
    "Input: [1, 2], [4, 2, 1] - Output: False"
   ]
  },
  {
   "cell_type": "code",
   "execution_count": null,
   "metadata": {},
   "outputs": [],
   "source": [
    "# ここにコードを書いてください."
   ]
  }
 ],
 "metadata": {
  "kernelspec": {
   "display_name": "Python 3",
   "language": "python",
   "name": "python3"
  },
  "language_info": {
   "codemirror_mode": {
    "name": "ipython",
    "version": 3
   },
   "file_extension": ".py",
   "mimetype": "text/x-python",
   "name": "python",
   "nbconvert_exporter": "python",
   "pygments_lexer": "ipython3",
   "version": "3.6.4"
  }
 },
 "nbformat": 4,
 "nbformat_minor": 2
}
