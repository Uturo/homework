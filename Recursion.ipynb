{
 "cells": [
  {
   "cell_type": "markdown",
   "metadata": {},
   "source": [
    "# Recursion"
   ]
  },
  {
   "cell_type": "markdown",
   "metadata": {},
   "source": [
    "### Problem 1\n",
    "\n",
    "1からnまでの整数を再帰的に計算する関数 **recursiveSum** を定義してください.\n",
    "\n",
    "e.g.  \n",
    "Input: recursiveSum(10) - Output: 55"
   ]
  },
  {
   "cell_type": "code",
   "execution_count": 7,
   "metadata": {},
   "outputs": [
    {
     "data": {
      "text/plain": [
       "6"
      ]
     },
     "execution_count": 7,
     "metadata": {},
     "output_type": "execute_result"
    }
   ],
   "source": [
    "def recursiveSum(n):\n",
    "    if n == 1:\n",
    "        return n\n",
    "    return n + recursiveSum(n - 1)\n",
    "    \n",
    "    \n",
    "recursiveSum(3)"
   ]
  },
  {
   "cell_type": "markdown",
   "metadata": {},
   "source": [
    "### Problem 2\n",
    "\n",
    "フィボナッチ数列は, 以下のように, 各項がその直前の2つの項の和となるような数列のことです.  \n",
    "\n",
    "``\n",
    "0, 1, 1, 2, 3, 5, 8, 13, 21, 34, ...\n",
    "``\n",
    "\n",
    "フィボナッチ数列におけるn項の値を求める関数 **fibonacci** を実装してください.\n",
    "\n",
    "e.g.  \n",
    "Input: fibonacci(10) - Output: 34"
   ]
  },
  {
   "cell_type": "code",
   "execution_count": 2,
   "metadata": {},
   "outputs": [
    {
     "data": {
      "text/plain": [
       "1"
      ]
     },
     "execution_count": 2,
     "metadata": {},
     "output_type": "execute_result"
    }
   ],
   "source": [
    "def fibonacci(n): \n",
    "    if n == 1:\n",
    "        return 0\n",
    "    elif n == 2:\n",
    "        return 1\n",
    "    else:\n",
    "        return fibonacci(n-1) + fibonacci(n-2)\n",
    "    \n",
    "\n",
    "fibonacci(3)"
   ]
  },
  {
   "cell_type": "code",
   "execution_count": null,
   "metadata": {},
   "outputs": [],
   "source": []
  }
 ],
 "metadata": {
  "kernelspec": {
   "display_name": "Python 3",
   "language": "python",
   "name": "python3"
  },
  "language_info": {
   "codemirror_mode": {
    "name": "ipython",
    "version": 3
   },
   "file_extension": ".py",
   "mimetype": "text/x-python",
   "name": "python",
   "nbconvert_exporter": "python",
   "pygments_lexer": "ipython3",
   "version": "3.7.3"
  }
 },
 "nbformat": 4,
 "nbformat_minor": 2
}
